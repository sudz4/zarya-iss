{
 "cells": [
  {
   "attachments": {},
   "cell_type": "markdown",
   "metadata": {},
   "source": [
    "|Water Temp Monitor|\n",
    "|-|"
   ]
  },
  {
   "cell_type": "code",
   "execution_count": 3,
   "metadata": {},
   "outputs": [],
   "source": [
    "#libs\n",
    "import requests\n",
    "#keys\n",
    "from config import OPEN_WEATHER_KEY"
   ]
  },
  {
   "cell_type": "code",
   "execution_count": null,
   "metadata": {},
   "outputs": [],
   "source": [
    "# mt. washington, new hampshire\n",
    "lat = '44.2706'\n",
    "long = '71.3033'\n",
    "exclude_parts = 'minutely'\n",
    "OPEN_WEATHER_KEY = 'your_open_weather_api_key'\n",
    "\n",
    "response = requests.get(f'https://api.openweathermap.org/data/3.0/onecall?lat={lat}&lon={long}&exclude={exclude_parts}&appid={OPEN_WEATHER_KEY}')\n",
    "\n",
    "json_resp = response.json()\n",
    "\n",
    "print(json_resp)\n"
   ]
  },
  {
   "cell_type": "code",
   "execution_count": null,
   "metadata": {},
   "outputs": [],
   "source": []
  },
  {
   "cell_type": "code",
   "execution_count": null,
   "metadata": {},
   "outputs": [],
   "source": []
  }
 ],
 "metadata": {
  "kernelspec": {
   "display_name": "zarya_venv",
   "language": "python",
   "name": "python3"
  },
  "language_info": {
   "codemirror_mode": {
    "name": "ipython",
    "version": 3
   },
   "file_extension": ".py",
   "mimetype": "text/x-python",
   "name": "python",
   "nbconvert_exporter": "python",
   "pygments_lexer": "ipython3",
   "version": "3.11.1"
  },
  "orig_nbformat": 4
 },
 "nbformat": 4,
 "nbformat_minor": 2
}

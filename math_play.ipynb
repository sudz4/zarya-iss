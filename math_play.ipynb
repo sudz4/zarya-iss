{
 "cells": [
  {
   "attachments": {},
   "cell_type": "markdown",
   "metadata": {},
   "source": [
    "|Math Brainstorm|\n",
    "|-|"
   ]
  },
  {
   "cell_type": "code",
   "execution_count": 3,
   "metadata": {},
   "outputs": [
    {
     "name": "stdout",
     "output_type": "stream",
     "text": [
      "24 20 1 0\n"
     ]
    }
   ],
   "source": [
    "a = 236%53\n",
    "b = 27**3%53\n",
    "c = 0xFF ^ 0xFE\n",
    "d = 21456 % 2\n",
    "\n",
    "print(a,b,c,d)"
   ]
  },
  {
   "cell_type": "code",
   "execution_count": null,
   "metadata": {},
   "outputs": [],
   "source": [
    "a1 = (a**b)**c\n",
    "b1 = (b**c)**a\n",
    "c1 = (c**b)**a\n",
    "d1 = (a**c)**b\n",
    "\n",
    "print(a1,b1,c1,d1)"
   ]
  }
 ],
 "metadata": {
  "kernelspec": {
   "display_name": "zarya_venv",
   "language": "python",
   "name": "python3"
  },
  "language_info": {
   "codemirror_mode": {
    "name": "ipython",
    "version": 3
   },
   "file_extension": ".py",
   "mimetype": "text/x-python",
   "name": "python",
   "nbconvert_exporter": "python",
   "pygments_lexer": "ipython3",
   "version": "3.11.1"
  },
  "orig_nbformat": 4
 },
 "nbformat": 4,
 "nbformat_minor": 2
}
